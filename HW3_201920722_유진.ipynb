{
  "nbformat": 4,
  "nbformat_minor": 0,
  "metadata": {
    "colab": {
      "name": "HW3_201920722_유진.ipynb",
      "provenance": [],
      "collapsed_sections": [],
      "include_colab_link": true
    },
    "kernelspec": {
      "name": "python3",
      "display_name": "Python 3"
    },
    "language_info": {
      "name": "python"
    }
  },
  "cells": [
    {
      "cell_type": "markdown",
      "metadata": {
        "id": "view-in-github",
        "colab_type": "text"
      },
      "source": [
        "<a href=\"https://colab.research.google.com/github/YooJin919/2022S-ML/blob/main/HW3_201920722_%EC%9C%A0%EC%A7%84.ipynb\" target=\"_parent\"><img src=\"https://colab.research.google.com/assets/colab-badge.svg\" alt=\"Open In Colab\"/></a>"
      ]
    },
    {
      "cell_type": "markdown",
      "source": [
        "# **HW3 :: Parameter Tuning and Classifcation**"
      ],
      "metadata": {
        "id": "m1rbIpJvJD_m"
      }
    },
    {
      "cell_type": "markdown",
      "source": [
        "## 코랩과 구글 드라이브 연동 OR 로컬에서 파일 업로드\n",
        "- 해당 섹션 코드 수정 가능"
      ],
      "metadata": {
        "id": "6c34x6aJI_kE"
      }
    },
    {
      "cell_type": "code",
      "source": [
        "# 연동 OR 파일 업로드\n",
        "# 연동 시 path 설정 주의"
      ],
      "metadata": {
        "id": "PLXjmIbsJMlk"
      },
      "execution_count": 1,
      "outputs": []
    },
    {
      "cell_type": "code",
      "source": [
        "from google.colab import drive\n",
        "drive.mount('/content/drive')"
      ],
      "metadata": {
        "colab": {
          "base_uri": "https://localhost:8080/"
        },
        "id": "4VXRY6hDJ60i",
        "outputId": "0929a102-1d1f-4504-f10a-a877ed33244a"
      },
      "execution_count": 2,
      "outputs": [
        {
          "output_type": "stream",
          "name": "stdout",
          "text": [
            "Mounted at /content/drive\n"
          ]
        }
      ]
    },
    {
      "cell_type": "markdown",
      "source": [
        "## 데이터 불러오기"
      ],
      "metadata": {
        "id": "HR6Kw9YhJV8A"
      }
    },
    {
      "cell_type": "code",
      "execution_count": 3,
      "metadata": {
        "id": "29BsCuUtKjKA"
      },
      "outputs": [],
      "source": [
        "import numpy as np\n",
        "import pandas as pd"
      ]
    },
    {
      "cell_type": "code",
      "source": [
        "#path = 'heart_clean.csv' # 제공된 csv 파일 사용\n",
        "path = '/content/drive/MyDrive/Colab Notebooks/heart_clean.csv'\n",
        "df = pd.read_csv(path)"
      ],
      "metadata": {
        "id": "KCR3D9shItY9"
      },
      "execution_count": 4,
      "outputs": []
    },
    {
      "cell_type": "code",
      "source": [
        "df.head()"
      ],
      "metadata": {
        "colab": {
          "base_uri": "https://localhost:8080/",
          "height": 206
        },
        "id": "S9v7sEpoL0jf",
        "outputId": "f8abf811-79d9-4bdf-af24-aebb1ab863b8"
      },
      "execution_count": 5,
      "outputs": [
        {
          "output_type": "execute_result",
          "data": {
            "text/plain": [
              "   Age  RestingBP  FastingBS  ExerciseAngina  Oldpeak  HeartDisease\n",
              "0   53        120          0               0      0.0             0\n",
              "1   65        134          0               1      1.1             1\n",
              "2   60        160          0               1      0.5             1\n",
              "3   57        150          1               0      0.2             0\n",
              "4   57        150          0               1      0.6             1"
            ],
            "text/html": [
              "\n",
              "  <div id=\"df-5b0bc81b-b28f-49f1-ac08-f7e71564bf72\">\n",
              "    <div class=\"colab-df-container\">\n",
              "      <div>\n",
              "<style scoped>\n",
              "    .dataframe tbody tr th:only-of-type {\n",
              "        vertical-align: middle;\n",
              "    }\n",
              "\n",
              "    .dataframe tbody tr th {\n",
              "        vertical-align: top;\n",
              "    }\n",
              "\n",
              "    .dataframe thead th {\n",
              "        text-align: right;\n",
              "    }\n",
              "</style>\n",
              "<table border=\"1\" class=\"dataframe\">\n",
              "  <thead>\n",
              "    <tr style=\"text-align: right;\">\n",
              "      <th></th>\n",
              "      <th>Age</th>\n",
              "      <th>RestingBP</th>\n",
              "      <th>FastingBS</th>\n",
              "      <th>ExerciseAngina</th>\n",
              "      <th>Oldpeak</th>\n",
              "      <th>HeartDisease</th>\n",
              "    </tr>\n",
              "  </thead>\n",
              "  <tbody>\n",
              "    <tr>\n",
              "      <th>0</th>\n",
              "      <td>53</td>\n",
              "      <td>120</td>\n",
              "      <td>0</td>\n",
              "      <td>0</td>\n",
              "      <td>0.0</td>\n",
              "      <td>0</td>\n",
              "    </tr>\n",
              "    <tr>\n",
              "      <th>1</th>\n",
              "      <td>65</td>\n",
              "      <td>134</td>\n",
              "      <td>0</td>\n",
              "      <td>1</td>\n",
              "      <td>1.1</td>\n",
              "      <td>1</td>\n",
              "    </tr>\n",
              "    <tr>\n",
              "      <th>2</th>\n",
              "      <td>60</td>\n",
              "      <td>160</td>\n",
              "      <td>0</td>\n",
              "      <td>1</td>\n",
              "      <td>0.5</td>\n",
              "      <td>1</td>\n",
              "    </tr>\n",
              "    <tr>\n",
              "      <th>3</th>\n",
              "      <td>57</td>\n",
              "      <td>150</td>\n",
              "      <td>1</td>\n",
              "      <td>0</td>\n",
              "      <td>0.2</td>\n",
              "      <td>0</td>\n",
              "    </tr>\n",
              "    <tr>\n",
              "      <th>4</th>\n",
              "      <td>57</td>\n",
              "      <td>150</td>\n",
              "      <td>0</td>\n",
              "      <td>1</td>\n",
              "      <td>0.6</td>\n",
              "      <td>1</td>\n",
              "    </tr>\n",
              "  </tbody>\n",
              "</table>\n",
              "</div>\n",
              "      <button class=\"colab-df-convert\" onclick=\"convertToInteractive('df-5b0bc81b-b28f-49f1-ac08-f7e71564bf72')\"\n",
              "              title=\"Convert this dataframe to an interactive table.\"\n",
              "              style=\"display:none;\">\n",
              "        \n",
              "  <svg xmlns=\"http://www.w3.org/2000/svg\" height=\"24px\"viewBox=\"0 0 24 24\"\n",
              "       width=\"24px\">\n",
              "    <path d=\"M0 0h24v24H0V0z\" fill=\"none\"/>\n",
              "    <path d=\"M18.56 5.44l.94 2.06.94-2.06 2.06-.94-2.06-.94-.94-2.06-.94 2.06-2.06.94zm-11 1L8.5 8.5l.94-2.06 2.06-.94-2.06-.94L8.5 2.5l-.94 2.06-2.06.94zm10 10l.94 2.06.94-2.06 2.06-.94-2.06-.94-.94-2.06-.94 2.06-2.06.94z\"/><path d=\"M17.41 7.96l-1.37-1.37c-.4-.4-.92-.59-1.43-.59-.52 0-1.04.2-1.43.59L10.3 9.45l-7.72 7.72c-.78.78-.78 2.05 0 2.83L4 21.41c.39.39.9.59 1.41.59.51 0 1.02-.2 1.41-.59l7.78-7.78 2.81-2.81c.8-.78.8-2.07 0-2.86zM5.41 20L4 18.59l7.72-7.72 1.47 1.35L5.41 20z\"/>\n",
              "  </svg>\n",
              "      </button>\n",
              "      \n",
              "  <style>\n",
              "    .colab-df-container {\n",
              "      display:flex;\n",
              "      flex-wrap:wrap;\n",
              "      gap: 12px;\n",
              "    }\n",
              "\n",
              "    .colab-df-convert {\n",
              "      background-color: #E8F0FE;\n",
              "      border: none;\n",
              "      border-radius: 50%;\n",
              "      cursor: pointer;\n",
              "      display: none;\n",
              "      fill: #1967D2;\n",
              "      height: 32px;\n",
              "      padding: 0 0 0 0;\n",
              "      width: 32px;\n",
              "    }\n",
              "\n",
              "    .colab-df-convert:hover {\n",
              "      background-color: #E2EBFA;\n",
              "      box-shadow: 0px 1px 2px rgba(60, 64, 67, 0.3), 0px 1px 3px 1px rgba(60, 64, 67, 0.15);\n",
              "      fill: #174EA6;\n",
              "    }\n",
              "\n",
              "    [theme=dark] .colab-df-convert {\n",
              "      background-color: #3B4455;\n",
              "      fill: #D2E3FC;\n",
              "    }\n",
              "\n",
              "    [theme=dark] .colab-df-convert:hover {\n",
              "      background-color: #434B5C;\n",
              "      box-shadow: 0px 1px 3px 1px rgba(0, 0, 0, 0.15);\n",
              "      filter: drop-shadow(0px 1px 2px rgba(0, 0, 0, 0.3));\n",
              "      fill: #FFFFFF;\n",
              "    }\n",
              "  </style>\n",
              "\n",
              "      <script>\n",
              "        const buttonEl =\n",
              "          document.querySelector('#df-5b0bc81b-b28f-49f1-ac08-f7e71564bf72 button.colab-df-convert');\n",
              "        buttonEl.style.display =\n",
              "          google.colab.kernel.accessAllowed ? 'block' : 'none';\n",
              "\n",
              "        async function convertToInteractive(key) {\n",
              "          const element = document.querySelector('#df-5b0bc81b-b28f-49f1-ac08-f7e71564bf72');\n",
              "          const dataTable =\n",
              "            await google.colab.kernel.invokeFunction('convertToInteractive',\n",
              "                                                     [key], {});\n",
              "          if (!dataTable) return;\n",
              "\n",
              "          const docLinkHtml = 'Like what you see? Visit the ' +\n",
              "            '<a target=\"_blank\" href=https://colab.research.google.com/notebooks/data_table.ipynb>data table notebook</a>'\n",
              "            + ' to learn more about interactive tables.';\n",
              "          element.innerHTML = '';\n",
              "          dataTable['output_type'] = 'display_data';\n",
              "          await google.colab.output.renderOutput(dataTable, element);\n",
              "          const docLink = document.createElement('div');\n",
              "          docLink.innerHTML = docLinkHtml;\n",
              "          element.appendChild(docLink);\n",
              "        }\n",
              "      </script>\n",
              "    </div>\n",
              "  </div>\n",
              "  "
            ]
          },
          "metadata": {},
          "execution_count": 5
        }
      ]
    },
    {
      "cell_type": "markdown",
      "source": [
        "## 데이터 나누기"
      ],
      "metadata": {
        "id": "fZDTxR6wKuPO"
      }
    },
    {
      "cell_type": "markdown",
      "source": [
        "### **주의 사항**\n",
        "train_test_split에 random seed를 사용하여 split set을 고정한다.\n",
        "- 모든 문제에 같은 random seed를 부여할 필요는 없다.\n"
      ],
      "metadata": {
        "id": "h5enxbYKbAhW"
      }
    },
    {
      "cell_type": "code",
      "source": [
        "from sklearn.model_selection import train_test_split\n",
        "\n",
        "X = df.drop('HeartDisease', axis=1)\n",
        "y = df['HeartDisease']\n",
        "  \n",
        "X_train, X_test, y_train, y_test = train_test_split(X, y, test_size=0.1)\n",
        "X_train, X_val, y_train, y_val = train_test_split(X_train, y_train, test_size=1/9)\n",
        "\n",
        "print(\"X_train's shape : \", X_train.shape)\n",
        "print(\"y_train's shape : \", y_train.shape)\n",
        "print(\"\\nX_val's shape : \", X_val.shape)\n",
        "print(\"y_val's shape : \", y_val.shape)\n",
        "print(\"\\nX_test's shape : \", X_test.shape)\n",
        "print(\"y_test's shape : \", y_test.shape)"
      ],
      "metadata": {
        "colab": {
          "base_uri": "https://localhost:8080/"
        },
        "id": "V1zQHUKdKWFz",
        "outputId": "51267922-4175-4a82-8b9d-2fdaf279c110"
      },
      "execution_count": 6,
      "outputs": [
        {
          "output_type": "stream",
          "name": "stdout",
          "text": [
            "X_train's shape :  (568, 5)\n",
            "y_train's shape :  (568,)\n",
            "\n",
            "X_val's shape :  (71, 5)\n",
            "y_val's shape :  (71,)\n",
            "\n",
            "X_test's shape :  (71, 5)\n",
            "y_test's shape :  (71,)\n"
          ]
        }
      ]
    },
    {
      "cell_type": "markdown",
      "source": [
        "\n",
        "\n",
        "---\n",
        "\n"
      ],
      "metadata": {
        "id": "wkJmRTz_jNTP"
      }
    },
    {
      "cell_type": "markdown",
      "source": [
        "## 문제1 KNN\n",
        "\n",
        "\n",
        "\n",
        "- Scikit-learn 라이브러리를 이용하여 KNN의 최적의 파라미터를 찾는다.\n",
        "    - 최근접 이웃을 찾기 위한 거리의 종류로 최소한 두 가지 이상의 거리 척도를 사용한다.\n",
        "    - K값을 최소 3개 이상 비교한다.\n",
        "    - 거리 척도, k값에 따라 train, validation 정확도를 한 그래프로 그린다.(x축 k값, y축 정확도)\n",
        "    - 찾은 최적의 파라미터와 test set 이용하여 test_accuracy 계산하고 기입한다.\n",
        "    - 최적의 파라미터를 찾은 것에 대한 설명을 '텍스트 셀'에 작성한다.\n",
        "\n"
      ],
      "metadata": {
        "id": "P5Gr-LZOLCSP"
      }
    },
    {
      "cell_type": "code",
      "source": [
        "### 문제 1 ###\n",
        "## 코드 작성 ##\n",
        "\n",
        "from sklearn.neighbors import KNeighborsClassifier\n",
        "import matplotlib.pyplot as plt\n",
        "\n",
        "k_value = [3, 7, 11, 21, 33]\n",
        "eucli_train_accuracy = []\n",
        "eucli_vali_accuracy = []\n",
        "manha_train_accuracy = []\n",
        "manha_vali_accuracy = []\n",
        "k = 0 # 최적의 parameter값\n",
        "k_metric = \"\" # 최적의 parameter를 가지는 거리 척도\n",
        "accuracy = 0 # test_accuracy\n",
        "\n",
        "# Euclidean Distance\n",
        "for k in k_value:\n",
        "  classifier = KNeighborsClassifier(n_neighbors = k, metric='euclidean') # k값 정하기\n",
        "  classifier.fit(X_train, y_train) # training data 학습\n",
        "  eucli_train_accuracy.append(classifier.score(X_train, y_train)) # 정확도 평가\n",
        "  eucli_vali_accuracy.append(classifier.score(X_val, y_val)) # 정확도 평가\n",
        "\n",
        "# Manhattan Distance\n",
        "for k in k_value:\n",
        "  classifier = KNeighborsClassifier(n_neighbors = k, metric='manhattan') # k값 정하기\n",
        "  classifier.fit(X_train, y_train) # training data 학습\n",
        "  manha_train_accuracy.append(classifier.score(X_train, y_train)) # 정확도 평가\n",
        "  manha_vali_accuracy.append(classifier.score(X_val, y_val)) # 정확도 평가\n",
        "  \n",
        "# 그래프 그리기\n",
        "plt.plot(k_value, eucli_train_accuracy, label='train')\n",
        "plt.plot(k_value, eucli_vali_accuracy, label='validation')\n",
        "plt.xlabel(\"k\")\n",
        "plt.ylabel(\"Accuracy\")\n",
        "plt.title(\"KNN euclidean Accuracy\")\n",
        "plt.legend()\n",
        "plt.show()\n",
        "\n",
        "plt.plot(k_value, manha_train_accuracy, label='train')\n",
        "plt.plot(k_value, manha_vali_accuracy, label='validation')\n",
        "plt.xlabel(\"k\")\n",
        "plt.ylabel(\"Accuracy\")\n",
        "plt.title(\"KNN manhattan Accuracy\")\n",
        "plt.legend()\n",
        "plt.show()\n",
        "\n",
        "## Validation Accuracy 값이 최대인 k값 찾기 => Validation을 가지고 Model 선정함\n",
        "# index는 0부터 시작하고, k값은 3부터 시작하기 때문에 k의 index값에 3을 더해야 실제 k값이 된다.\n",
        "# Euclidean \n",
        "eucli_max = max(eucli_vali_accuracy) # Accuracy 최대값\n",
        "eucli_k = eucli_vali_accuracy.index(eucli_max) # 최대 Accuracy를 가지는 k값\n",
        "eucli_k = eucli_k +3 \n",
        "\n",
        "# Manhattan \n",
        "manha_max = max(manha_vali_accuracy) # Accuracy 최대값\n",
        "manha_k = manha_vali_accuracy.index(manha_max) # 최대 Accuracy를 가지는 k값\n",
        "manha_k = manha_k + 3\n",
        "\n",
        "# print(eucli_max, eucli_k)\n",
        "# print(manha_max, manha_k)\n",
        "\n",
        "# Euclidean과 Manhattan의 Accuracy 중에서 더 큰 값으로 최적의 parameter 설정\n",
        "if(eucli_max > manha_max):\n",
        "  k = eucli_k\n",
        "  k_metric = \"euclidean\"\n",
        "else:\n",
        "  k = manha_k\n",
        "  k_metric = \"manhattan\"\n",
        "\n",
        "# 최적의 parameter값, test data를 이용하여 test accuracy 계산하기\n",
        "classifier = KNeighborsClassifier(n_neighbors = k, metric=k_metric) # k값 정하기\n",
        "classifier.fit(X_train, y_train) # training data 학습\n",
        "accuracy = classifier.score(X_test, y_test) # 정확도 평가\n",
        "\n",
        "print(\"test accuracy:\",accuracy,\"\\nk:\",k,\"\\nmetric:\",k_metric)"
      ],
      "metadata": {
        "id": "ME76ne9cdSMa",
        "colab": {
          "base_uri": "https://localhost:8080/",
          "height": 626
        },
        "outputId": "bc801356-a8de-4035-81a3-7f29e07ab15a"
      },
      "execution_count": 7,
      "outputs": [
        {
          "output_type": "display_data",
          "data": {
            "text/plain": [
              "<Figure size 432x288 with 1 Axes>"
            ],
            "image/png": "[encoded data removed]"
          },
          "metadata": {
            "needs_background": "light"
          }
        },
        {
          "output_type": "display_data",
          "data": {
            "text/plain": [
              "<Figure size 432x288 with 1 Axes>"
            ],
            "image/png": "[encoded data removed]"
          },
          "metadata": {
            "needs_background": "light"
          }
        },
        {
          "output_type": "stream",
          "name": "stdout",
          "text": [
            "test accuracy: 0.7183098591549296 \n",
            "k: 6 \n",
            "metric: manhattan\n"
          ]
        }
      ]
    },
    {
      "cell_type": "markdown",
      "source": [
        "**설명 작성**  \n",
        "- 최적의 파라미터: 새로 실행 할 때마다 값이 바뀐다. 설명 작성을 할 때의 최적의 파라미터는 다음과 같다.  \n",
        "test accuracy : 0.7183098591549296 / k : 6 / metric : manhattan  \n",
        "  \n",
        "- 설명:  \n",
        "3~15 사이의 모든 값을 한 번씩 k값으로 지정하고 euclidean distance, manhattan distance 두 가지 방법으로 distance를 결정한다.  \n",
        "euclidean에서 train, validation dataset의 accuracy를 계산하고, manhattan 방법에서 train, validation dataset의 accurarcy를 계산한다.  \n",
        "두 가지 방법중에서 validation accuracy가 가장 큰 k의 값을 최적의 k값으로 지정한다.  \n",
        "최종적으로 결정된 k값과 distance 계산 방법을 가지고 test dataset을 계산하여 test accuracy를 구한다."
      ],
      "metadata": {
        "id": "8-BMEqCFdfsR"
      }
    },
    {
      "cell_type": "markdown",
      "source": [
        "\n",
        "\n",
        "---\n",
        "\n"
      ],
      "metadata": {
        "id": "kHaSKoowjPp7"
      }
    },
    {
      "cell_type": "markdown",
      "source": [
        "## 문제2 SVM\n",
        "\n",
        "\n",
        "- Scikit-learn 라이브러리를 이용하여 SVM의 최적의 파라미터를 찾는다.\n",
        "    - Kernel trick 중 최소 두개를 비교한다.\n",
        "    - 최적의 파라미터 C값을 찾는다.\n",
        "    - 파라미터에 따라 train, validation 정확도를 한 그래프로 그린다.(x축 C값, y축 정확도)\n",
        "    - 찾은 최적의 파라미터와 test set을 이용하여 test accuracy를 계산하고 기입한다.\n",
        "    - 최적의 파라미터를 찾은 것에 대한 설명을 '텍스트 셀'에 작성한다.\n"
      ],
      "metadata": {
        "id": "VA0mzbsiaOoH"
      }
    },
    {
      "cell_type": "code",
      "source": [
        "### 문제 2 ###\n",
        "## 코드 작성 ##\n",
        "from sklearn import svm  \n",
        "\n",
        "# linear / rbf\n",
        "c_value = [0.01, 0.05, 0.1, 0.5, 1, 5, 10]\n",
        "linear_train_acc = []\n",
        "linear_vali_acc = []\n",
        "rbf_train_acc = []\n",
        "rbf_vali_acc = []\n",
        "Kernel = \"\"\n",
        "margin = 0\n",
        "accuracy = 0\n",
        "\n",
        "# linear\n",
        "for margin in c_value:\n",
        "  classifier = svm.SVC(kernel='linear', C = margin) # SVM Classifier 만들기\n",
        "  classifier.fit(X_train, y_train) # training data로 모델 학습시키기\n",
        "  linear_train_acc.append(classifier.score(X_train, y_train)) # train 정확도 평가\n",
        "  linear_vali_acc.append(classifier.score(X_val, y_val)) # validataion 정확도 평가\n",
        "\n",
        "# RBF\n",
        "for margin in c_value:\n",
        "  classifier = svm.SVC(kernel='rbf', C = margin) # SVM Classifier 만들기\n",
        "  classifier.fit(X_train, y_train) # training data로 모델 학습시키기\n",
        "  rbf_train_acc.append(classifier.score(X_train, y_train)) # train 정확도 평가\n",
        "  rbf_vali_acc.append(classifier.score(X_val, y_val)) # validataion 정확도 평가\n",
        "\n",
        "# 그래프 그리기\n",
        "plt.plot(c_value, linear_train_acc, label='train')\n",
        "plt.plot(c_value, linear_vali_acc, label='validation')\n",
        "plt.xlabel(\"C\")\n",
        "plt.ylabel(\"Accuracy\")\n",
        "plt.title(\"Linear SVM Accuracy\")\n",
        "plt.legend()\n",
        "plt.show()\n",
        "\n",
        "plt.plot(c_value, rbf_train_acc, label='train')\n",
        "plt.plot(c_value, rbf_vali_acc, label='validation')\n",
        "plt.xlabel(\"C\")\n",
        "plt.ylabel(\"Accuracy\")\n",
        "plt.title(\"RBF SVM Accuracy\")\n",
        "plt.legend()\n",
        "plt.show()\n",
        "\n",
        "## Validation Accuracy 값이 최대인 C값 찾기\n",
        "linear_max = max(linear_vali_acc)\n",
        "linear_index = linear_vali_acc.index(linear_max)\n",
        "linear_index = c_value[linear_index]\n",
        "\n",
        "rbf_max = max(rbf_vali_acc)\n",
        "rbf_index = rbf_vali_acc.index(rbf_max)\n",
        "rbf_index = c_value[rbf_index]\n",
        "\n",
        "# print(linear_max, linear_index, rbf_max, rbf_index)\n",
        "\n",
        "# Linear와 RBF의 Accuracy 중에서 더 큰 값으로 최적의 parameter 설정\n",
        "if(linear_max > rbf_max):\n",
        "  margin = linear_index\n",
        "  Kernel = \"linear\"\n",
        "else:\n",
        "  margin = rbf_index\n",
        "  Kernel = \"rbf\"\n",
        "\n",
        "\n",
        "# 최적의 parameter값, test data를 이용하여 test accuracy 계산하기\n",
        "classifier = svm.SVC(kernel=Kernel, C = margin) # k값 정하기\n",
        "classifier.fit(X_train, y_train) # training data로 모델 학습시키기\n",
        "accuracy = classifier.score(X_test, y_test) # 정확도 평가\n",
        "\n",
        "print(\"test accuracy:\",accuracy,\"\\nC:\",margin,\"\\nkernel:\",Kernel)"
      ],
      "metadata": {
        "id": "zZdkdlyMeH_Y",
        "colab": {
          "base_uri": "https://localhost:8080/",
          "height": 626
        },
        "outputId": "95b84a35-daf5-47a4-ace7-4717f92a3217"
      },
      "execution_count": 8,
      "outputs": [
        {
          "output_type": "display_data",
          "data": {
            "text/plain": [
              "<Figure size 432x288 with 1 Axes>"
            ],
            "image/png": "[encoded data removed]"
          },
          "metadata": {
            "needs_background": "light"
          }
        },
        {
          "output_type": "display_data",
          "data": {
            "text/plain": [
              "<Figure size 432x288 with 1 Axes>"
            ],
            "image/png": "[encoded data removed]"
          },
          "metadata": {
            "needs_background": "light"
          }
        },
        {
          "output_type": "stream",
          "name": "stdout",
          "text": [
            "test accuracy: 0.8169014084507042 \n",
            "C: 0.1 \n",
            "kernel: linear\n"
          ]
        }
      ]
    },
    {
      "cell_type": "markdown",
      "source": [
        "**설명 작성**  \n",
        "- 최적의 파라미터: 새로 실행 할 때마다 값이 바뀐다. 설명 작성을 할 때의 최적의 파라미터는 다음과 같다.  \n",
        "test accuracy : 0.8169014084507042 / C : 0.1 / metric : linear  \n",
        "  \n",
        "- 설명:  \n",
        "[0.01, 0.05, 0.1, 0.5, 1, 5, 10]값을 한 번씩 C값으로 지정하고 Kernel을 linear, RBF 두 가지 방법으로 지정한다.  \n",
        "linear에서 train, validation dataset의 accuracy를 계산하고, RBF에서 train, validation dataset의 accurarcy를 계산한다.  \n",
        "두 가지 방법중에서 validation accuracy가 가장 큰 C의 값을 최적의 C값으로 지정한다.  \n",
        "최종적으로 결정된 C값과 Kernel을 가지고 test dataset을 계산하여 test accuracy를 구한다."
      ],
      "metadata": {
        "id": "y47YT_IleHKq"
      }
    },
    {
      "cell_type": "markdown",
      "source": [
        "\n",
        "\n",
        "---\n",
        "\n"
      ],
      "metadata": {
        "id": "jFA8FPDKkjHC"
      }
    },
    {
      "cell_type": "markdown",
      "source": [
        "## 문제3 Cross validation with Random Forest\n",
        "### 3-1: k-fold\n",
        "- 수업시간에 배운 **5-fold** 를 이용하여 최적의 파라미터를 찾는다. (데이터는 동일)\n",
        "- 수업시간에 배운 random forest 모델의 파라미터를 cross-validation을 바탕으로 최적화한다.\n",
        "    - **5-fold CV를 할 때, test data를 제외한 90%의 데이터를 사용해야한다.**\n",
        "    - 파라미터에 따라 K-fold CV를 통해 나온 평균 정확도와 각 fold의 정확도들을 한 그래프로 그린다.(x축 선택한 파라미터, y축 정확도)\n",
        "    - 찾은 최적의 파라미터와 test set을 이용하여 test accuracy를 계산하고 기입한다.\n",
        "    - 최적의 파라미터를 찾은 것에 대한 설명을 '텍스트 셀'에 작성한다.\n",
        "\n",
        "### 3-2: Leave One Out\n",
        "- 수업시간에 배운 Leave-One-Out 를 이용하여 최적의 파라미터를 찾는다. (데이터는 동일)\n",
        "- 수업시간에 배운 random forest 모델의 파라미터를 cross-validation을 바탕으로 최적화한다.\n",
        "  - **Leave-One-Out CV를 할 때, test data를 제외한 90%의 데이터를 사용해야한다.**\n",
        "  - 파라미터에 따라 Leave-One-Out CV를 통해 나온 평균 정확도를 그래프로 그린다.(x축 선택한 파라미터, y축 정확도)\n",
        "  - 찾은 최적의 파라미터와 test set을 이용하여 test accuracy를 계산하고 기입한다.\n",
        "  - 최적의 파라미터를 찾은 것에 대한 설명을 '텍스트 셀'에 작성한다."
      ],
      "metadata": {
        "id": "cl1b3f3AaZUw"
      }
    },
    {
      "cell_type": "code",
      "source": [
        "### 문제 3-1 ###\n",
        "## 코드 작성 ##\n",
        "\n",
        "import pandas as pd\n",
        "from sklearn.model_selection import KFold\n",
        "from sklearn.ensemble import RandomForestClassifier\n",
        "from sklearn.model_selection import cross_val_score\n",
        "\n",
        "\n",
        "###### hyper-parameter : tree's max_depth ######\n",
        "\n",
        "# 기존의 train, val dataset을 합친다. (X, y)\n",
        "# train : 568 / test : 71\n",
        "new_X = pd.concat([X_train,X_val])\n",
        "new_y = pd.concat([y_train,y_val])\n",
        "\n",
        "acc = [] # 각 fold의 parameter에 대한 accuracy\n",
        "acc_mean = [] # 각 fold의 평균 accuracy\n",
        "rst_acc = 0 # 최적의 parameter로 test set을 계산한 accuracy\n",
        "rst_parameter = 0 # 최적의 parameter\n",
        "\n",
        "# 최적의 parameter 찾기 위한 parameter 종류 : Tree Depth\n",
        "randomDepth = [1, 3, 5, 10, 15, 20, 30, 50, 100]\n",
        "\n",
        "# train 90%, test 10%로 dataset split\n",
        "X_train, X_test, y_train, y_test = train_test_split(new_X, new_y, test_size=0.1, random_state=1004)\n",
        "\n",
        "\n",
        "for i in randomDepth:\n",
        "  # Random Forest Classifier 생성\n",
        "  forest = RandomForestClassifier(max_depth=i, n_jobs=1, random_state=1004)\n",
        "\n",
        "  # training\n",
        "  forest.fit(X_train, y_train)\n",
        "\n",
        "  f = KFold(n_splits=5)\n",
        "\n",
        "  # 정확도 계산\n",
        "  accuracy = cross_val_score(forest, X_train, y_train, cv=f, scoring='accuracy')\n",
        "  acc.append(accuracy)\n",
        "  acc_mean.append(np.mean(acc))\n",
        "\n",
        "# 그래프 그리기\n",
        "plt.plot(randomDepth, acc)\n",
        "plt.plot(randomDepth, acc_mean, label='average')\n",
        "plt.xlabel(\"The Depth of Trees\")\n",
        "plt.ylabel(\"Accuracy\")\n",
        "plt.title(\" Random Forest Accuracy\")\n",
        "plt.legend()\n",
        "plt.show()\n",
        "\n",
        "# 최적의 parameter 찾기\n",
        "tmp = max(acc_mean)\n",
        "index = acc_mean.index(tmp)\n",
        "\n",
        "# 최적의 parameter로 test dataset 계산하기\n",
        "f_depth = randomDepth[index]\n",
        "forest = RandomForestClassifier(max_depth=f_depth, n_jobs=1, random_state=1004)\n",
        "forest.fit(X_train, y_train)\n",
        "rst_acc = forest.score(X_test, y_test)\n",
        "\n",
        "print('test accuracy =', rst_acc, 'with max_depth =',f_depth)\n"
      ],
      "metadata": {
        "id": "fYNny36efEF3",
        "colab": {
          "base_uri": "https://localhost:8080/",
          "height": 313
        },
        "outputId": "9d2cee01-7ac5-4c39-d4fa-d89c155f1cfe"
      },
      "execution_count": 9,
      "outputs": [
        {
          "output_type": "display_data",
          "data": {
            "text/plain": [
              "<Figure size 432x288 with 1 Axes>"
            ],
            "image/png": "[encoded data removed]"
          },
          "metadata": {
            "needs_background": "light"
          }
        },
        {
          "output_type": "stream",
          "name": "stdout",
          "text": [
            "test accuracy = 0.78125 with max_depth = 5\n"
          ]
        }
      ]
    },
    {
      "cell_type": "markdown",
      "source": [
        "**설명 작성**  \n",
        "- test accuracy: 0.78125\n",
        "- 최적의 파라미터: Tree의 depth = 5\n",
        "- 설명:  \n",
        "기존에 존재하는 train과 validation 데이터를 합친 후에 하나의 dataset을 5-fold를 사용하여 training에 사용할 test와 train dataset을 나눈다.  \n",
        "parameter를 random forest의 depth로 설정하고 [1, 3, 5, 10, 15, 20, 30, 50, 100]값을 한번씩 max_depth로 설정하여 accuracy를 계산한다.  \n",
        "depth에 따라 fold들에서 결정된 accuracy의 평균값이 가장 큰 accuracy를 만드는 depth를 최적의 parameter로 결정하고 초기의 test set과 계산하여 test accuracy를 계산한다.\n"
      ],
      "metadata": {
        "id": "2xvEdCHAfH0g"
      }
    },
    {
      "cell_type": "code",
      "source": [
        "### 문제 3-2 ###\n",
        "## 코드 작성 ##\n",
        "\n",
        "import pandas as pd\n",
        "from sklearn.model_selection import KFold\n",
        "from sklearn.ensemble import RandomForestClassifier\n",
        "from sklearn.model_selection import cross_val_score\n",
        "from sklearn.model_selection import LeaveOneOut\n",
        "\n",
        "###### hyper-parameter : tree's max_depth ######\n",
        "\n",
        "# 기존의 train, val dataset을 합친다. (X, y)\n",
        "# train : 568 / test : 71\n",
        "new_X = pd.concat([X_train,X_val])\n",
        "new_y = pd.concat([y_train,y_val])\n",
        "\n",
        "acc = [] # 각 fold의 parameter에 대한 accuracy\n",
        "acc_mean = [] # 각 fold의 평균 accuracy\n",
        "rst_acc = 0 # 최적의 parameter로 test set을 계산한 accuracy\n",
        "rst_parameter = 0 # 최적의 parameter\n",
        "\n",
        "# 최적의 parameter 찾기 위한 parameter 종류 : Tree Depth\n",
        "randomDepth = [1, 3, 5, 10, 15, 20, 30, 50, 100]\n",
        "\n",
        "# train 90%, test 10%로 dataset split\n",
        "X_train, X_test, y_train, y_test = train_test_split(new_X, new_y, test_size=0.1, random_state=1004)\n",
        "\n",
        "\n",
        "for i in randomDepth:\n",
        "  # Random Forest Classifier 생성\n",
        "  forest = RandomForestClassifier(max_depth=i, n_jobs=1, random_state=1004)\n",
        "\n",
        "  # training\n",
        "  forest.fit(X_train, y_train)\n",
        "\n",
        "  #f = KFold(n_splits=5)\n",
        "  loo = LeaveOneOut()\n",
        "\n",
        "  accuracy = cross_val_score(forest, X_train, y_train, cv=loo, scoring='accuracy')\n",
        "  acc.append(accuracy)\n",
        "  acc_mean.append(np.mean(acc))\n",
        "\n",
        "# 그래프 그리기\n",
        "plt.plot(randomDepth, acc)\n",
        "plt.plot(randomDepth, acc_mean, label='average')\n",
        "plt.xlabel(\"The Depth of Trees\")\n",
        "plt.ylabel(\"Accuracy\")\n",
        "plt.title(\" Random Forest Accuracy\")\n",
        "plt.legend()\n",
        "plt.show()\n",
        "\n",
        "# 최적의 parameter 찾기\n",
        "tmp = max(acc_mean)\n",
        "index = acc_mean.index(tmp)\n",
        "\n",
        "# 최적의 parameter로 test dataset 계산하기\n",
        "f_depth = randomDepth[index]\n",
        "forest = RandomForestClassifier(max_depth=f_depth, n_jobs=1, random_state=1004)\n",
        "forest.fit(X_train, y_train)\n",
        "rst_acc = forest.score(X_test, y_test)\n",
        "\n",
        "print('test accuracy =', rst_acc, 'with max_depth =',f_depth)\n"
      ],
      "metadata": {
        "id": "80a5iRmvfG6H",
        "colab": {
          "base_uri": "https://localhost:8080/",
          "height": 313
        },
        "outputId": "ea0bc281-6be1-4947-e542-9f46796aeaa8"
      },
      "execution_count": 10,
      "outputs": [
        {
          "output_type": "display_data",
          "data": {
            "text/plain": [
              "<Figure size 432x288 with 1 Axes>"
            ],
            "image/png": "[encoded data removed]"
          },
          "metadata": {
            "needs_background": "light"
          }
        },
        {
          "output_type": "stream",
          "name": "stdout",
          "text": [
            "test accuracy = 0.8 with max_depth = 100\n"
          ]
        }
      ]
    },
    {
      "cell_type": "markdown",
      "source": [
        "**설명 작성**  \n",
        "- test accuracy:0.8\n",
        "- 최적의 파라미터: max_depth = 100\n",
        "- 설명:  \n",
        "3-1과 동일한 방법으로 진행하지만, LOOCV는 n-fold이므로 cv값을 LeaveOneOut()으로 설정하고 n번 계산한다.  "
      ],
      "metadata": {
        "id": "m9BqByTFfLIG"
      }
    },
    {
      "cell_type": "markdown",
      "source": [
        "\n",
        "\n",
        "---\n",
        "\n"
      ],
      "metadata": {
        "id": "BlvQjbXJkllk"
      }
    },
    {
      "cell_type": "markdown",
      "source": [
        "## 문제4 Regression\n",
        "문제 4 에서는 캘리포니아 주택 가격 데이터셋을 사용합니다.   \n",
        "학습을 통해 주택 가격을 예측하는 문제입니다.  \n",
        "데이터에 대한 자세한 설명은 아래 코드의 description을 참고해주세요."
      ],
      "metadata": {
        "id": "szX5GgcXfnM1"
      }
    },
    {
      "cell_type": "code",
      "source": [
        "from sklearn.datasets import fetch_california_housing\n",
        "housing = fetch_california_housing()\n",
        "print(housing.DESCR)"
      ],
      "metadata": {
        "id": "v7mbmrTRinak",
        "colab": {
          "base_uri": "https://localhost:8080/"
        },
        "outputId": "8940737a-a183-4c62-873c-b9c7eec7708d"
      },
      "execution_count": 19,
      "outputs": [
        {
          "output_type": "stream",
          "name": "stdout",
          "text": [
            ".. _california_housing_dataset:\n",
            "\n",
            "California Housing dataset\n",
            "--------------------------\n",
            "\n",
            "**Data Set Characteristics:**\n",
            "\n",
            "    :Number of Instances: 20640\n",
            "\n",
            "    :Number of Attributes: 8 numeric, predictive attributes and the target\n",
            "\n",
            "    :Attribute Information:\n",
            "        - MedInc        median income in block group\n",
            "        - HouseAge      median house age in block group\n",
            "        - AveRooms      average number of rooms per household\n",
            "        - AveBedrms     average number of bedrooms per household\n",
            "        - Population    block group population\n",
            "        - AveOccup      average number of household members\n",
            "        - Latitude      block group latitude\n",
            "        - Longitude     block group longitude\n",
            "\n",
            "    :Missing Attribute Values: None\n",
            "\n",
            "This dataset was obtained from the StatLib repository.\n",
            "https://www.dcc.fc.up.pt/~ltorgo/Regression/cal_housing.html\n",
            "\n",
            "The target variable is the median house value for California districts,\n",
            "expressed in hundreds of thousands of dollars ($100,000).\n",
            "\n",
            "This dataset was derived from the 1990 U.S. census, using one row per census\n",
            "block group. A block group is the smallest geographical unit for which the U.S.\n",
            "Census Bureau publishes sample data (a block group typically has a population\n",
            "of 600 to 3,000 people).\n",
            "\n",
            "An household is a group of people residing within a home. Since the average\n",
            "number of rooms and bedrooms in this dataset are provided per household, these\n",
            "columns may take surpinsingly large values for block groups with few households\n",
            "and many empty houses, such as vacation resorts.\n",
            "\n",
            "It can be downloaded/loaded using the\n",
            ":func:`sklearn.datasets.fetch_california_housing` function.\n",
            "\n",
            ".. topic:: References\n",
            "\n",
            "    - Pace, R. Kelley and Ronald Barry, Sparse Spatial Autoregressions,\n",
            "      Statistics and Probability Letters, 33 (1997) 291-297\n",
            "\n"
          ]
        }
      ]
    },
    {
      "cell_type": "code",
      "source": [
        "df = pd.DataFrame(housing.data, columns=housing.feature_names)\n",
        "df['target'] = housing.target"
      ],
      "metadata": {
        "id": "beqDbNzQi0PR"
      },
      "execution_count": 20,
      "outputs": []
    },
    {
      "cell_type": "code",
      "source": [
        "print(df.head())"
      ],
      "metadata": {
        "id": "Y-4fgqWCkd-o",
        "colab": {
          "base_uri": "https://localhost:8080/"
        },
        "outputId": "88b34e2a-0d4f-431f-b376-1118af1ceb7f"
      },
      "execution_count": 21,
      "outputs": [
        {
          "output_type": "stream",
          "name": "stdout",
          "text": [
            "   MedInc  HouseAge  AveRooms  AveBedrms  Population  AveOccup  Latitude  \\\n",
            "0  8.3252      41.0  6.984127   1.023810       322.0  2.555556     37.88   \n",
            "1  8.3014      21.0  6.238137   0.971880      2401.0  2.109842     37.86   \n",
            "2  7.2574      52.0  8.288136   1.073446       496.0  2.802260     37.85   \n",
            "3  5.6431      52.0  5.817352   1.073059       558.0  2.547945     37.85   \n",
            "4  3.8462      52.0  6.281853   1.081081       565.0  2.181467     37.85   \n",
            "\n",
            "   Longitude  target  \n",
            "0    -122.23   4.526  \n",
            "1    -122.22   3.585  \n",
            "2    -122.24   3.521  \n",
            "3    -122.25   3.413  \n",
            "4    -122.25   3.422  \n"
          ]
        }
      ]
    },
    {
      "cell_type": "code",
      "source": [
        "print(df.shape) #(20640, 9)\n",
        "print(df.describe())"
      ],
      "metadata": {
        "id": "zoUn3ZXdkimJ",
        "colab": {
          "base_uri": "https://localhost:8080/"
        },
        "outputId": "c295d642-01e4-4580-9ab5-6a0437a3dc5e"
      },
      "execution_count": 22,
      "outputs": [
        {
          "output_type": "stream",
          "name": "stdout",
          "text": [
            "(20640, 9)\n",
            "             MedInc      HouseAge      AveRooms     AveBedrms    Population  \\\n",
            "count  20640.000000  20640.000000  20640.000000  20640.000000  20640.000000   \n",
            "mean       3.870671     28.639486      5.429000      1.096675   1425.476744   \n",
            "std        1.899822     12.585558      2.474173      0.473911   1132.462122   \n",
            "min        0.499900      1.000000      0.846154      0.333333      3.000000   \n",
            "25%        2.563400     18.000000      4.440716      1.006079    787.000000   \n",
            "50%        3.534800     29.000000      5.229129      1.048780   1166.000000   \n",
            "75%        4.743250     37.000000      6.052381      1.099526   1725.000000   \n",
            "max       15.000100     52.000000    141.909091     34.066667  35682.000000   \n",
            "\n",
            "           AveOccup      Latitude     Longitude        target  \n",
            "count  20640.000000  20640.000000  20640.000000  20640.000000  \n",
            "mean       3.070655     35.631861   -119.569704      2.068558  \n",
            "std       10.386050      2.135952      2.003532      1.153956  \n",
            "min        0.692308     32.540000   -124.350000      0.149990  \n",
            "25%        2.429741     33.930000   -121.800000      1.196000  \n",
            "50%        2.818116     34.260000   -118.490000      1.797000  \n",
            "75%        3.282261     37.710000   -118.010000      2.647250  \n",
            "max     1243.333333     41.950000   -114.310000      5.000010  \n"
          ]
        }
      ]
    },
    {
      "cell_type": "markdown",
      "source": [
        "### 문제 4-1 : Pearson Correlation\n",
        "- seaborn 패키지를 사용하여 pearson correlation heatmap을 그린다.\n",
        "- heatmap을 확인한 후 각 feature들 간 어떠한 관계가 있는지 아래의 텍스트 셀에 서술한다.    \n",
        "- target과 연관성이 높은 feature의 column들을 아래의 텍스트 셀에 기술한다.\n",
        "- 기술한 columns들과 target column을 포함하여 DataFrame을 만들고 **이후 모든 문제에서는 이 DataFrame을 사용한다**."
      ],
      "metadata": {
        "id": "G3_Z_2mO7WkB"
      }
    },
    {
      "cell_type": "code",
      "source": [
        "### 문제 4-1 ###\n",
        "# correlation map 작성 후 plot\n",
        "import numpy as np\n",
        "import pandas as pd\n",
        "import matplotlib.pyplot as plt \n",
        "import seaborn as sns\n",
        "from scipy import stats\n",
        "\n",
        "heatmap_data = df\n",
        "\n",
        "# 상관관계 분석\n",
        "# correlationmap 작성\n",
        "print(heatmap_data.corr())\n",
        "# plot\n",
        "sns.heatmap(heatmap_data.astype(float).corr(), linewidths = 0.1, vmax = 1.0, square = True, linecolor = \"white\", annot = True, annot_kws = {\"size\" : 5})\n"
      ],
      "metadata": {
        "id": "3YiBgTBYFlOs",
        "colab": {
          "base_uri": "https://localhost:8080/",
          "height": 711
        },
        "outputId": "214564f3-3238-4677-9262-dd82256f0786"
      },
      "execution_count": 23,
      "outputs": [
        {
          "output_type": "stream",
          "name": "stdout",
          "text": [
            "              MedInc  HouseAge  AveRooms  AveBedrms  Population  AveOccup  \\\n",
            "MedInc      1.000000 -0.119034  0.326895  -0.062040    0.004834  0.018766   \n",
            "HouseAge   -0.119034  1.000000 -0.153277  -0.077747   -0.296244  0.013191   \n",
            "AveRooms    0.326895 -0.153277  1.000000   0.847621   -0.072213 -0.004852   \n",
            "AveBedrms  -0.062040 -0.077747  0.847621   1.000000   -0.066197 -0.006181   \n",
            "Population  0.004834 -0.296244 -0.072213  -0.066197    1.000000  0.069863   \n",
            "AveOccup    0.018766  0.013191 -0.004852  -0.006181    0.069863  1.000000   \n",
            "Latitude   -0.079809  0.011173  0.106389   0.069721   -0.108785  0.002366   \n",
            "Longitude  -0.015176 -0.108197 -0.027540   0.013344    0.099773  0.002476   \n",
            "target      0.688075  0.105623  0.151948  -0.046701   -0.024650 -0.023737   \n",
            "\n",
            "            Latitude  Longitude    target  \n",
            "MedInc     -0.079809  -0.015176  0.688075  \n",
            "HouseAge    0.011173  -0.108197  0.105623  \n",
            "AveRooms    0.106389  -0.027540  0.151948  \n",
            "AveBedrms   0.069721   0.013344 -0.046701  \n",
            "Population -0.108785   0.099773 -0.024650  \n",
            "AveOccup    0.002366   0.002476 -0.023737  \n",
            "Latitude    1.000000  -0.924664 -0.144160  \n",
            "Longitude  -0.924664   1.000000 -0.045967  \n",
            "target     -0.144160  -0.045967  1.000000  \n"
          ]
        },
        {
          "output_type": "execute_result",
          "data": {
            "text/plain": [
              "<matplotlib.axes._subplots.AxesSubplot at 0x7f4ffaa03d50>"
            ]
          },
          "metadata": {},
          "execution_count": 23
        },
        {
          "output_type": "display_data",
          "data": {
            "text/plain": [
              "<Figure size 432x288 with 2 Axes>"
            ],
            "image/png": "[encoded data removed]"
          },
          "metadata": {
            "needs_background": "light"
          }
        }
      ]
    },
    {
      "cell_type": "markdown",
      "source": [
        "- **Feature들 간 관계 서술**  \n",
        "  답:  \n",
        "- MedInc  \n",
        "HouseAge : 약한 음적 선형관계  \n",
        "AveRooms : 강한 양적 선형관계  \n",
        "AveBedrms : 거의 무시될 수 있는 선형관계  \n",
        "Population : 거의 무시될 수 있는 선형관계  \n",
        "AveOccup : 거의 무시될 수 있는 선형관계  \n",
        "Latitude : 거의 무시될 수 있는 선형관계  \n",
        "Longitude : 거의 무시될 수 있는 선형관계  \n",
        "target : 뚜렷한 양적 선형관계  \n",
        "  \n",
        "- HouseAge  \n",
        "MedInc : 약한 음적 선형관계  \n",
        "AveRooms : 약한 음적 선형관계  \n",
        "AveBedrms : 거의 무시될 수 있는 선형관계  \n",
        "Population : 약한 음적 선형관계  \n",
        "AveOccup : 거의 무시될 수 있는 선형관계  \n",
        "Latitude : 거의 무시될 수 있는 선형관계  \n",
        "Longitude : 약한 음적 선형관계  \n",
        "target : 약한 양적 선형관계  \n",
        "  \n",
        "- AveRooms  \n",
        "MedInc  : 뚜렷한 양적 선형관계  \n",
        "HouseAge : 약한 음적 선형관계  \n",
        "AveBedrms : 강한 양적 선형관계  \n",
        "Population : 거의 무시될 수 있는 선형관계  \n",
        "AveOccup : 거의 무시될 수 있는 선형관계  \n",
        "Latitude : 약한 양적 선형관계  \n",
        "Longitude : 거의 무시될 수 있는 선형관계  \n",
        "target : 약한 양적 선형관계  \n",
        "  \n",
        "- AveBedrms  \n",
        "MedInc  : 거의 무시될 수 있는 선형관계  \n",
        "HouseAge : 거의 무시될 수 있는 선형관계  \n",
        "AveRooms : 뚜렷한 양적 선형관계  \n",
        "Population : 거의 무시될 수 있는 선형관계  \n",
        "AveOccup : 거의 무시될 수 있는 선형관계  \n",
        "Latitude : 거의 무시될 수 있는 선형관계  \n",
        "Longitude : 거의 무시될 수 있는 선형관계  \n",
        "target : 거의 무시될 수 있는 선형관계  \n",
        "  \n",
        "- Population  \n",
        "MedInc  : 거의 무시될 수 있는 선형관계  \n",
        "HouseAge : 약한 음적 선형관계  \n",
        "AveRooms : 거의 무시될 수 있는 선형관계  \n",
        "AveBedrms : 거의 무시될 수 있는 선형관계  \n",
        "AveOccup : 거의 무시될 수 있는 선형관계  \n",
        "Latitude : 약한 음적 선형관계  \n",
        "Longitude : 거의 무시될 수 있는 선형관계  \n",
        "target : 거의 무시될 수 있는 선형관계  \n",
        "  \n",
        "- AveOccup  \n",
        "MedInc : 거의 무시될 수 있는 선형관계  \n",
        "HouseAge : 거의 무시될 수 있는 선형관계  \n",
        "AveRooms : 거의 무시될 수 있는 선형관계  \n",
        "AveBedrms : 거의 무시될 수 있는 선형관계  \n",
        "Population : 거의 무시될 수 있는 선형관계  \n",
        "Latitude : 거의 무시될 수 있는 선형관계  \n",
        "Longitude : 거의 무시될 수 있는 선형관계  \n",
        "target : 거의 무시될 수 있는 선형관계  \n",
        "   \n",
        "- Latitude  \n",
        "MedInc : 거의 무시될 수 있는 선형관계  \n",
        "HouseAge : 거의 무시될 수 있는 선형관계  \n",
        "AveRooms : 약한 양적 선형관계  \n",
        "AveBedrms : 거의 무시될 수 있는 선형관계  \n",
        "Population : 약한 음적 선형관계  \n",
        "AveOccup : 거의 무시될 수 있는 선형관계  \n",
        "Longitude : 뚜렷한 음적 선형관계  \n",
        "target : 약한 음적 선형관계  \n",
        "  \n",
        "- Longitude  \n",
        "MedInc : 거의 무시될 수 있는 선형관계  \n",
        "HouseAge : 약한 음적 선형관계  \n",
        "AveRooms : 거의 무시될 수 있는 선형관계  \n",
        "AveBedrms : 거의 무시될 수 있는 선형관계  \n",
        "Population : 거의 무시될 수 있는 선형관계  \n",
        "AveOccup : 거의 무시될 수 있는 선형관계  \n",
        "Latitude : 뚜렷한 음적 선형관계  \n",
        "target : 거의 무시될 수 있는 선형관계  \n",
        "  \n",
        "- target  \n",
        "MedInc : 강한 양적 선형관계  \n",
        "HouseAge : 약한 양적 선형관계  \n",
        "AveRooms : 약한 양적 선형관계  \n",
        "AveBedrms : 거의 무시될 수 있는 선형관계  \n",
        "Population : 거의 무시될 수 있는 선형관계  \n",
        "AveOccup : 거의 무시될 수 있는 선형관계  \n",
        "Latitude : 약한 음적 선형관계  \n",
        "Longitude : 거의 무시될 수 있는 선형관계  \n",
        "  \n",
        "- **최종 선택한 feature들**  \n",
        "  답: MedInc, HouseAge, AveRooms, Latitude"
      ],
      "metadata": {
        "id": "onkXpOqZ_Aal"
      }
    },
    {
      "cell_type": "code",
      "source": [
        "### 문제 4-1 ###\n",
        "# 새 dataframe 만들기\n",
        "t_dataframe = heatmap_data[['MedInc', 'HouseAge', 'AveRooms', 'Latitude', 'target']] \n",
        "\n",
        "# t_dataframe.head(10)"
      ],
      "metadata": {
        "id": "GDXuxL65j7Gy"
      },
      "execution_count": 24,
      "outputs": []
    },
    {
      "cell_type": "markdown",
      "source": [
        "                                             ### 문제 4-2: MSE, r2 score\n",
        "- Scikit-learn 라이브러리의 LinearRegression 모델을 사용한다.\n",
        "- train data는 test data를 제외한 **90%의 데이터를 사용**해야한다.\n",
        "- **Mean Square Error(MSE)**와 **r2 score**를 사용하여 train set에 대한 prediction 결과와 test set에 대한 prediction 결과를 구해 print 한다.\n",
        "- Prediction 결과를 바탕으로 학습한 LinearRegression 모델의 overfit, underfit 여부와 판단 근거를 텍스트 셀에 서술한다."
      ],
      "metadata": {
        "id": "uMo7ufW3_TXX"
      }
    },
    {
      "cell_type": "code",
      "source": [
        "### 문제 4-2 ###\n",
        "## 코드 작성 ##\n",
        "\n",
        "from sklearn.linear_model import LinearRegression\n",
        "from sklearn.metrics import mean_squared_error\n",
        "from sklearn.metrics import r2_score\n",
        "\n",
        "# 전체 dataframe에서 X, y 분리\n",
        "X = t_dataframe[['MedInc', 'HouseAge', 'AveRooms', 'Latitude']]\n",
        "y = t_dataframe[['target']] # Y true (origin value)\n",
        "\n",
        "# train 90%, test 10% 분리\n",
        "X_train, X_test, y_train, y_test = train_test_split(X, y, test_size=0.1)\n",
        "\n",
        "# print(X.shape, y.shape) \n",
        "# (20640, 4) (20640, 1)\n",
        "# print(X_train.shape, X_test.shape, y_train.shape, y_test.shape)\n",
        "# (18576, 4) (2064, 4) (18576, 1) (2064, 1)\n",
        "\n",
        "# 선형 회귀 모델 학습\n",
        "model = LinearRegression()\n",
        "model.fit(X_train, y_train)\n",
        "\n",
        "# train set의 predict\n",
        "train_y_pred = model.predict(X_train) # 예측 값\n",
        "mse_train = mean_squared_error(y_train, train_y_pred)\n",
        "r2score = r2_score(y_train, train_y_pred)\n",
        "print('train mse : ', mse_train,'r2_score : ', r2score)\n",
        "\n",
        "# test set의 predict\n",
        "test_y_pred = model.predict(X_test) # 예측 값\n",
        "mse_test = mean_squared_error(y_test, test_y_pred)\n",
        "r2score = r2_score(y_test, test_y_pred)\n",
        "print('test mse  : ', mse_test,'r2_score : ', r2score)\n"
      ],
      "metadata": {
        "id": "UgKvcwQXCLhx",
        "colab": {
          "base_uri": "https://localhost:8080/"
        },
        "outputId": "aec6f177-172e-45fd-ecc6-3d91c33e98ca"
      },
      "execution_count": 25,
      "outputs": [
        {
          "output_type": "stream",
          "name": "stdout",
          "text": [
            "train mse :  0.6346366519567632 r2_score :  0.5238469445641896\n",
            "test mse  :  0.698857056792624 r2_score :  0.4704393270116135\n"
          ]
        }
      ]
    },
    {
      "cell_type": "markdown",
      "source": [
        "**Prediction 결과를 바탕으로 학습한 LinearRegression 모델의 overfit, underfit 여부와 판단 근거를 서술**   \n",
        "답:  \n",
        "mse는 예측값과 실제 값의 오차의 제곱의 합을 나타낸다.\n",
        "그러므로 mse 값이 크다는 것은 예측값과 실제값의 오차가 크다는 것이다.  \n",
        "test mse의 값이 train mse값보다 크다면, test에서 오차가 더 많이 발생했다는 것이다.\n",
        "따라서 train에서의 정확도보다 test에서의 정확도가 낮으므로 모델이 overfit(과적합)되었다는 것을 알 수 있다."
      ],
      "metadata": {
        "id": "rcgD51UhEKOE"
      }
    },
    {
      "cell_type": "markdown",
      "source": [
        "### 문제 4-3: Regularized Model\n",
        "- Scikit-learn 라이브러리를 사용하여 Ridge Regression과 Lasso Regression 모델을 만든다.\n",
        "- train : validation : test **데이터셋의 비율을 8:1:1**로 설정한다.\n",
        "- 다양한 alpha 값에 대해 validation dataset을 사용하여 각 모델에 대한 **최적의 alpha 값을 찾고 찾은 최적의 alpha 값을 텍스트 셀에 작성**한다.\n",
        "- alpha 값은 아래의 리스트를 사용한다.  \n",
        "```alpha = [0.0001, 0.001,0.01,0.1,10]```\n",
        "- alpha 값에 대한 R2 score의 변화를 그래프로 나타낸다.\n",
        "  * **x축: alpha 값**\n",
        "  * **y축: R2 score 값**\n",
        "  * 파란색 선: Ridge 결과, 빨간색 선: Lasso 결과\n",
        "  * 그래프에 **legend**가 포함되어 있어야 한다. \n",
        "- **train과 validation dataset을 합하여 train set을 만든 후 최종 학습 결과를 도출**한다.\n",
        "  * 최적의 alpha 값을 찾을 때 사용한 test set은 변하지 않는다. \n",
        "  * r2 score를 사용하여 train set에 대한 prediction 결과와 test set에 대한 prediction 결과를 구해 print 한다."
      ],
      "metadata": {
        "id": "0OGUhsrgEwR_"
      }
    },
    {
      "cell_type": "code",
      "source": [
        "### 문제 4-3 ###\n",
        "## 코드 작성 ##\n",
        "\n",
        "from sklearn.linear_model import Ridge, Lasso\n",
        "\n",
        "# dataset 비율 설정 (( train 80%, vali 10%, test 10% ))\n",
        "X_train, X_test, y_train, y_test = train_test_split(X, y, test_size=0.1)\n",
        "X_train, X_val, y_train, y_val = train_test_split(X_train, y_train, test_size=1/9)\n",
        "\n",
        "# 사용하는 변수\n",
        "alpha = [0.0001, 0.001, 0.01, 0.1, 10]\n",
        "rdg_acc = []\n",
        "rdg_acc_val = []\n",
        "rdg_r2scores = []\n",
        "\n",
        "lss_acc = []\n",
        "lss_acc_val = []\n",
        "lss_r2scores = []\n",
        "\n",
        "\n",
        "# Ridge Regression (L2) 과 Lasso Regression (L1) 모델\n",
        "# (1) Ridge Regression\n",
        "for i in alpha:\n",
        "  rdg = Ridge(alpha=i)\n",
        "  rdg.fit(X_train, y_train)\n",
        "  rdg_acc.append(rdg.score(X_train, y_train))\n",
        "  rdg_acc_val.append(rdg.score(X_val, y_val))\n",
        "\n",
        "  y_pred = rdg.predict(X_train)\n",
        "  rdg_r2scores.append(r2_score(y_train, y_pred))\n",
        "\n",
        "# (2) Lasso Regression\n",
        "for i in alpha:\n",
        "  lss = Lasso(alpha=i)\n",
        "  lss.fit(X_train, y_train)\n",
        "  lss_acc.append(lss.score(X_train, y_train))\n",
        "  lss_acc_val.append(lss.score(X_val, y_val))\n",
        "\n",
        "  y_pred = lss.predict(X_train)\n",
        "  lss_r2scores.append(r2_score(y_train, y_pred))\n",
        "\n",
        "# 최적의 alpha값 찾기\n",
        "index = np.argmax(rdg_acc_val)\n",
        "rdg_alpha = alpha[index]\n",
        "index = np.argmax(lss_acc_val)\n",
        "lss_alpha = alpha[index]\n",
        "\n",
        "# 각 model의 최적의 alpha값\n",
        "print(rdg_alpha)\n",
        "print(lss_alpha)"
      ],
      "metadata": {
        "id": "5XHRyFjsZyJ5",
        "colab": {
          "base_uri": "https://localhost:8080/"
        },
        "outputId": "3e2787c4-c60f-4a14-c150-264f6b924311"
      },
      "execution_count": 26,
      "outputs": [
        {
          "output_type": "stream",
          "name": "stdout",
          "text": [
            "0.0001\n",
            "0.0001\n"
          ]
        }
      ]
    },
    {
      "cell_type": "code",
      "source": [
        "### 문제 4-3 ###\n",
        "## 그래프 작성 ##\n",
        "# Graph 그리기\n",
        "plt.plot(alpha, rdg_r2scores, label='Ridge', color='b')\n",
        "plt.plot(alpha, lss_r2scores, label='Lasso', color='r')\n",
        "plt.xlabel(\"alpha\")\n",
        "plt.ylabel(\"R2 score\")\n",
        "plt.title(\"Regularized Model\")\n",
        "plt.legend()\n",
        "plt.show()"
      ],
      "metadata": {
        "id": "2ZJbj9r2Z4LP",
        "colab": {
          "base_uri": "https://localhost:8080/",
          "height": 295
        },
        "outputId": "6a3db2c4-f69b-449e-ef8c-1d2fa6845369"
      },
      "execution_count": 27,
      "outputs": [
        {
          "output_type": "display_data",
          "data": {
            "text/plain": [
              "<Figure size 432x288 with 1 Axes>"
            ],
            "image/png": "[encoded data removed]"
          },
          "metadata": {
            "needs_background": "light"
          }
        }
      ]
    },
    {
      "cell_type": "markdown",
      "source": [
        "- Rridge regression 모델 최적의 alpha 값:0.0001\n",
        "- Lasso regression 모델 최적의 alpha 값:0.0001"
      ],
      "metadata": {
        "id": "DS8x1JmkZ6Yl"
      }
    },
    {
      "cell_type": "code",
      "source": [
        "### 문제 4-3 ###\n",
        "# 최종 결과 출력\n",
        "\n",
        "R2_score = []\n",
        "\n",
        "# 1. train과 validation dataset 합치기\n",
        "Xtrain = pd.concat([X_train, X_val])\n",
        "ytrain = pd.concat([y_train, y_val])\n",
        "\n",
        "# 2. 최적의 alpha값을 가지고 train과 test set에 대한 R2 score 구하기\n",
        "# (1) Ridge Regression\n",
        "rdg = Ridge(alpha=rdg_alpha)\n",
        "rdg.fit(Xtrain, ytrain)\n",
        "y_pred = rdg.predict(X_train)\n",
        "R2_score.append(r2_score(y_train, y_pred))\n",
        "y_pred = rdg.predict(X_test)\n",
        "R2_score.append(r2_score(y_test, y_pred))\n",
        "\n",
        "# (2) Lasso Regression\n",
        "lss = Lasso(alpha=lss_alpha)\n",
        "lss.fit(Xtrain, ytrain)\n",
        "y_pred = lss.predict(X_train)\n",
        "R2_score.append(r2_score(y_train, y_pred))\n",
        "y_pred = lss.predict(X_test)\n",
        "R2_score.append(r2_score(y_test, y_pred))\n",
        "\n",
        "print('Ridge Regression train R2 : ',R2_score[0])\n",
        "print('Ridge Regression test R2 : ',R2_score[1])\n",
        "print('\\nLasso Regression train R2 : ',R2_score[2])\n",
        "print('Lasso Regression test R2 : ',R2_score[3])"
      ],
      "metadata": {
        "id": "zio0ZtfdiXCF",
        "colab": {
          "base_uri": "https://localhost:8080/"
        },
        "outputId": "652254f5-674e-44c5-8164-48c2cf30376c"
      },
      "execution_count": 29,
      "outputs": [
        {
          "output_type": "stream",
          "name": "stdout",
          "text": [
            "Ridge Regression train R2 :  0.5150005023471207\n",
            "Ridge Regression test R2 :  0.5408083172551584\n",
            "\n",
            "Lasso Regression train R2 :  0.5150011221369453\n",
            "Lasso Regression test R2 :  0.5408076999063157\n"
          ]
        }
      ]
    }
  ]
}